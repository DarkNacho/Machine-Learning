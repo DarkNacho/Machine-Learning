{
  "nbformat": 4,
  "nbformat_minor": 0,
  "metadata": {
    "colab": {
      "name": "a priori.ipynb",
      "provenance": [],
      "authorship_tag": "ABX9TyOzjyxlWuVN0VKtXR4oKw/4",
      "include_colab_link": true
    },
    "kernelspec": {
      "name": "python3",
      "display_name": "Python 3"
    },
    "language_info": {
      "name": "python"
    }
  },
  "cells": [
    {
      "cell_type": "markdown",
      "metadata": {
        "id": "view-in-github",
        "colab_type": "text"
      },
      "source": [
        "<a href=\"https://colab.research.google.com/github/castudil/Machine-Learning/blob/main/a_priori.ipynb\" target=\"_parent\"><img src=\"https://colab.research.google.com/assets/colab-badge.svg\" alt=\"Open In Colab\"/></a>"
      ]
    },
    {
      "cell_type": "code",
      "metadata": {
        "id": "lCEYrkowCl4j"
      },
      "source": [
        "# store the item sets as tuples of strings in a list\n",
        "transactions = [\n",
        "    (\"beer\", \"wine\", \"cheese\"),\n",
        "    (\"beer\", \"potato chips\"),\n",
        "    (\"eggs\", \"flour\", \"butter\", \"cheese\"),\n",
        "    (\"eggs\", \"flour\", \"butter\", \"beer\", \"potato chips\"),\n",
        "    (\"wine\", \"cheese\"),\n",
        "    (\"potato chips\"),\n",
        "    (\"eggs\", \"flour\", \"butter\", \"wine\", \"cheese\"),\n",
        "    (\"eggs\", \"flour\", \"butter\", \"beer\", \"potato chips\"),\n",
        "    (\"wine\", \"beer\"),\n",
        "    (\"beer\", \"potato chips\"),\n",
        "    (\"butter\", \"eggs\"),\n",
        "    (\"beer\", \"potato chips\"),\n",
        "    (\"flour\", \"eggs\"),\n",
        "    (\"beer\", \"potato chips\"),\n",
        "    (\"eggs\", \"flour\", \"butter\", \"wine\", \"cheese\"),\n",
        "    (\"beer\", \"wine\", \"potato chips\", \"cheese\"),\n",
        "    (\"wine\", \"cheese\"),\n",
        "    (\"beer\", \"potato chips\"),\n",
        "    (\"wine\", \"cheese\"),\n",
        "    (\"beer\", \"potato chips\"),\n",
        "]"
      ],
      "execution_count": null,
      "outputs": []
    },
    {
      "cell_type": "code",
      "metadata": {
        "colab": {
          "base_uri": "https://localhost:8080/"
        },
        "id": "S5bid2raC4Hd",
        "outputId": "7d39ea56-a87d-46f1-c403-e119999a8cdc"
      },
      "source": [
        "!pip install efficient-apriori"
      ],
      "execution_count": null,
      "outputs": [
        {
          "output_type": "stream",
          "name": "stdout",
          "text": [
            "Collecting efficient-apriori\n",
            "  Downloading efficient_apriori-2.0.1-py3-none-any.whl (14 kB)\n",
            "Installing collected packages: efficient-apriori\n",
            "Successfully installed efficient-apriori-2.0.1\n"
          ]
        }
      ]
    },
    {
      "cell_type": "code",
      "metadata": {
        "id": "KMBxynnACncF"
      },
      "source": [
        "from efficient_apriori import apriori\n",
        "\n",
        "# our min support is 7, but it has to be expressed as a percentage for efficient-apriori\n",
        "min_support = 7/len(transactions) \n",
        "\n",
        "# min confidence allows you to delete rules with low confidence.\n",
        "# For now set min_confidence = 0 to obtain all the rules\n",
        "min_confidence = 0\n",
        "itemsets, rules = apriori(transactions, min_support=min_support, min_confidence=min_confidence)\n"
      ],
      "execution_count": null,
      "outputs": []
    },
    {
      "cell_type": "code",
      "metadata": {
        "colab": {
          "base_uri": "https://localhost:8080/"
        },
        "id": "AGSYQcYrDD_5",
        "outputId": "7c12833c-eef3-4a91-eb86-240f8cba163d"
      },
      "source": [
        "print(itemsets)"
      ],
      "execution_count": null,
      "outputs": [
        {
          "output_type": "stream",
          "name": "stdout",
          "text": [
            "{1: {('beer',): 11, ('wine',): 8, ('cheese',): 8, ('potato chips',): 9, ('eggs',): 7}, 2: {('beer', 'potato chips'): 9, ('cheese', 'wine'): 7}}\n"
          ]
        }
      ]
    },
    {
      "cell_type": "code",
      "metadata": {
        "colab": {
          "base_uri": "https://localhost:8080/"
        },
        "id": "BcJtH5D_DO_B",
        "outputId": "ab8464bf-1fd0-4f9c-acb9-4efbeba76eb3"
      },
      "source": [
        "for rule in rules:\n",
        "  print(rule)"
      ],
      "execution_count": null,
      "outputs": [
        {
          "output_type": "stream",
          "name": "stdout",
          "text": [
            "{potato chips} -> {beer} (conf: 1.000, supp: 0.450, lift: 1.818, conv: 450000000.000)\n",
            "{beer} -> {potato chips} (conf: 0.818, supp: 0.450, lift: 1.818, conv: 3.025)\n",
            "{wine} -> {cheese} (conf: 0.875, supp: 0.350, lift: 2.188, conv: 4.800)\n",
            "{cheese} -> {wine} (conf: 0.875, supp: 0.350, lift: 2.188, conv: 4.800)\n"
          ]
        }
      ]
    },
    {
      "cell_type": "markdown",
      "metadata": {
        "id": "REMULAmADazr"
      },
      "source": [
        "In conclusion to this data, we could argue that the lift of the rules Wine => Cheese and Cheese => Wine is very high. The owner of this night store may probably want to put cheese and wine close to each other. The association of Potato Chips => Beer and Beer => Potato Chips are a bit less strong, but high enough to also put beer and potato chips at the same place in the store."
      ]
    }
  ]
}