{
  "nbformat": 4,
  "nbformat_minor": 0,
  "metadata": {
    "colab": {
      "provenance": [],
      "authorship_tag": "ABX9TyOM03NzlqmBsyYsWIGvKqJb",
      "include_colab_link": true
    },
    "kernelspec": {
      "name": "python3",
      "display_name": "Python 3"
    },
    "language_info": {
      "name": "python"
    }
  },
  "cells": [
    {
      "cell_type": "markdown",
      "metadata": {
        "id": "view-in-github",
        "colab_type": "text"
      },
      "source": [
        "<a href=\"https://colab.research.google.com/github/castudil/Machine-Learning/blob/main/Proyecto%20Final%20ML/%20Entrega%2004%20-%20Model/%20Entrega_04_Model_Iris.ipynb\" target=\"_parent\"><img src=\"https://colab.research.google.com/assets/colab-badge.svg\" alt=\"Open In Colab\"/></a>"
      ]
    },
    {
      "cell_type": "markdown",
      "source": [
        "###OBTAIN\n"
      ],
      "metadata": {
        "id": "bmBAtRbu3lCy"
      }
    },
    {
      "cell_type": "code",
      "execution_count": 25,
      "metadata": {
        "id": "0QJ6-0DB3eaa"
      },
      "outputs": [],
      "source": [
        "import numpy as np\n",
        "import pandas as pd\n",
        "import matplotlib.pyplot as plt\n",
        "import seaborn as sns\n",
        "%matplotlib inline"
      ]
    },
    {
      "cell_type": "markdown",
      "source": [
        "El conjunto de datos contiene un conjunto de 150 registros bajo cinco atributos: longitud del sépalo, ancho del sépalo, largo del pétalo, ancho del pétalo y especie.\n",
        "\n",
        "\n",
        "Esta es quizás la base de datos más conocida que se encuentra en la literatura de reconocimiento de patrones. El artículo de Fisher es un clásico en el campo y se hace referencia con frecuencia hasta el día de hoy. (Consulte Duda & Hart, por ejemplo). El conjunto de datos contiene 3 clases de 50 instancias cada una, donde cada clase se refiere a un tipo de planta de iris. Una clase es linealmente separable de las otras 2; estos últimos NO son linealmente separables entre sí.\n",
        "\n",
        "Atributo previsto: clase de planta de iris.\n",
        "\n",
        "Este es un dominio extremadamente simple.\n",
        "\n",
        "Estos datos difieren de los datos presentados en el artículo de Fisher (identificado por Steve Chadwick, spchadwick '@' espeedaz.net). La muestra 35 debe ser: 4.9,3.1,1.5,0.2,\"Iris-setosa\" donde el error está en la cuarta característica. La muestra 38: 4.9,3.6,1.4,0.1,\"Iris-setosa\" donde los errores están en la segunda y tercera características.\n",
        "\n",
        "URL (https://archive.ics.uci.edu/ml/datasets/iris)"
      ],
      "metadata": {
        "id": "zzOYg_MG8FFS"
      }
    },
    {
      "cell_type": "code",
      "source": [
        "url = 'https://archive.ics.uci.edu/ml/machine-learning-databases/iris/iris.data'\n",
        "\n",
        "iris = pd.read_csv(url, names=['Sepal Length','Sepal Width','Petal Length','Petal Width','Species'])\n",
        "\n",
        "iris.head()"
      ],
      "metadata": {
        "colab": {
          "base_uri": "https://localhost:8080/",
          "height": 206
        },
        "id": "DN9jR8PppuaH",
        "outputId": "e60aa025-33cc-41af-b508-9098d97b6b76"
      },
      "execution_count": 73,
      "outputs": [
        {
          "output_type": "execute_result",
          "data": {
            "text/plain": [
              "   Sepal Length  Sepal Width  Petal Length  Petal Width      Species\n",
              "0           5.1          3.5           1.4          0.2  Iris-setosa\n",
              "1           4.9          3.0           1.4          0.2  Iris-setosa\n",
              "2           4.7          3.2           1.3          0.2  Iris-setosa\n",
              "3           4.6          3.1           1.5          0.2  Iris-setosa\n",
              "4           5.0          3.6           1.4          0.2  Iris-setosa"
            ],
            "text/html": [
              "\n",
              "  <div id=\"df-0b5f6ce0-b4dd-4cb3-8419-3b528ba0c72f\">\n",
              "    <div class=\"colab-df-container\">\n",
              "      <div>\n",
              "<style scoped>\n",
              "    .dataframe tbody tr th:only-of-type {\n",
              "        vertical-align: middle;\n",
              "    }\n",
              "\n",
              "    .dataframe tbody tr th {\n",
              "        vertical-align: top;\n",
              "    }\n",
              "\n",
              "    .dataframe thead th {\n",
              "        text-align: right;\n",
              "    }\n",
              "</style>\n",
              "<table border=\"1\" class=\"dataframe\">\n",
              "  <thead>\n",
              "    <tr style=\"text-align: right;\">\n",
              "      <th></th>\n",
              "      <th>Sepal Length</th>\n",
              "      <th>Sepal Width</th>\n",
              "      <th>Petal Length</th>\n",
              "      <th>Petal Width</th>\n",
              "      <th>Species</th>\n",
              "    </tr>\n",
              "  </thead>\n",
              "  <tbody>\n",
              "    <tr>\n",
              "      <th>0</th>\n",
              "      <td>5.1</td>\n",
              "      <td>3.5</td>\n",
              "      <td>1.4</td>\n",
              "      <td>0.2</td>\n",
              "      <td>Iris-setosa</td>\n",
              "    </tr>\n",
              "    <tr>\n",
              "      <th>1</th>\n",
              "      <td>4.9</td>\n",
              "      <td>3.0</td>\n",
              "      <td>1.4</td>\n",
              "      <td>0.2</td>\n",
              "      <td>Iris-setosa</td>\n",
              "    </tr>\n",
              "    <tr>\n",
              "      <th>2</th>\n",
              "      <td>4.7</td>\n",
              "      <td>3.2</td>\n",
              "      <td>1.3</td>\n",
              "      <td>0.2</td>\n",
              "      <td>Iris-setosa</td>\n",
              "    </tr>\n",
              "    <tr>\n",
              "      <th>3</th>\n",
              "      <td>4.6</td>\n",
              "      <td>3.1</td>\n",
              "      <td>1.5</td>\n",
              "      <td>0.2</td>\n",
              "      <td>Iris-setosa</td>\n",
              "    </tr>\n",
              "    <tr>\n",
              "      <th>4</th>\n",
              "      <td>5.0</td>\n",
              "      <td>3.6</td>\n",
              "      <td>1.4</td>\n",
              "      <td>0.2</td>\n",
              "      <td>Iris-setosa</td>\n",
              "    </tr>\n",
              "  </tbody>\n",
              "</table>\n",
              "</div>\n",
              "      <button class=\"colab-df-convert\" onclick=\"convertToInteractive('df-0b5f6ce0-b4dd-4cb3-8419-3b528ba0c72f')\"\n",
              "              title=\"Convert this dataframe to an interactive table.\"\n",
              "              style=\"display:none;\">\n",
              "        \n",
              "  <svg xmlns=\"http://www.w3.org/2000/svg\" height=\"24px\"viewBox=\"0 0 24 24\"\n",
              "       width=\"24px\">\n",
              "    <path d=\"M0 0h24v24H0V0z\" fill=\"none\"/>\n",
              "    <path d=\"M18.56 5.44l.94 2.06.94-2.06 2.06-.94-2.06-.94-.94-2.06-.94 2.06-2.06.94zm-11 1L8.5 8.5l.94-2.06 2.06-.94-2.06-.94L8.5 2.5l-.94 2.06-2.06.94zm10 10l.94 2.06.94-2.06 2.06-.94-2.06-.94-.94-2.06-.94 2.06-2.06.94z\"/><path d=\"M17.41 7.96l-1.37-1.37c-.4-.4-.92-.59-1.43-.59-.52 0-1.04.2-1.43.59L10.3 9.45l-7.72 7.72c-.78.78-.78 2.05 0 2.83L4 21.41c.39.39.9.59 1.41.59.51 0 1.02-.2 1.41-.59l7.78-7.78 2.81-2.81c.8-.78.8-2.07 0-2.86zM5.41 20L4 18.59l7.72-7.72 1.47 1.35L5.41 20z\"/>\n",
              "  </svg>\n",
              "      </button>\n",
              "      \n",
              "  <style>\n",
              "    .colab-df-container {\n",
              "      display:flex;\n",
              "      flex-wrap:wrap;\n",
              "      gap: 12px;\n",
              "    }\n",
              "\n",
              "    .colab-df-convert {\n",
              "      background-color: #E8F0FE;\n",
              "      border: none;\n",
              "      border-radius: 50%;\n",
              "      cursor: pointer;\n",
              "      display: none;\n",
              "      fill: #1967D2;\n",
              "      height: 32px;\n",
              "      padding: 0 0 0 0;\n",
              "      width: 32px;\n",
              "    }\n",
              "\n",
              "    .colab-df-convert:hover {\n",
              "      background-color: #E2EBFA;\n",
              "      box-shadow: 0px 1px 2px rgba(60, 64, 67, 0.3), 0px 1px 3px 1px rgba(60, 64, 67, 0.15);\n",
              "      fill: #174EA6;\n",
              "    }\n",
              "\n",
              "    [theme=dark] .colab-df-convert {\n",
              "      background-color: #3B4455;\n",
              "      fill: #D2E3FC;\n",
              "    }\n",
              "\n",
              "    [theme=dark] .colab-df-convert:hover {\n",
              "      background-color: #434B5C;\n",
              "      box-shadow: 0px 1px 3px 1px rgba(0, 0, 0, 0.15);\n",
              "      filter: drop-shadow(0px 1px 2px rgba(0, 0, 0, 0.3));\n",
              "      fill: #FFFFFF;\n",
              "    }\n",
              "  </style>\n",
              "\n",
              "      <script>\n",
              "        const buttonEl =\n",
              "          document.querySelector('#df-0b5f6ce0-b4dd-4cb3-8419-3b528ba0c72f button.colab-df-convert');\n",
              "        buttonEl.style.display =\n",
              "          google.colab.kernel.accessAllowed ? 'block' : 'none';\n",
              "\n",
              "        async function convertToInteractive(key) {\n",
              "          const element = document.querySelector('#df-0b5f6ce0-b4dd-4cb3-8419-3b528ba0c72f');\n",
              "          const dataTable =\n",
              "            await google.colab.kernel.invokeFunction('convertToInteractive',\n",
              "                                                     [key], {});\n",
              "          if (!dataTable) return;\n",
              "\n",
              "          const docLinkHtml = 'Like what you see? Visit the ' +\n",
              "            '<a target=\"_blank\" href=https://colab.research.google.com/notebooks/data_table.ipynb>data table notebook</a>'\n",
              "            + ' to learn more about interactive tables.';\n",
              "          element.innerHTML = '';\n",
              "          dataTable['output_type'] = 'display_data';\n",
              "          await google.colab.output.renderOutput(dataTable, element);\n",
              "          const docLink = document.createElement('div');\n",
              "          docLink.innerHTML = docLinkHtml;\n",
              "          element.appendChild(docLink);\n",
              "        }\n",
              "      </script>\n",
              "    </div>\n",
              "  </div>\n",
              "  "
            ]
          },
          "metadata": {},
          "execution_count": 73
        }
      ]
    },
    {
      "cell_type": "code",
      "source": [
        "iris.info()  #checking if there is any inconsistency in the dataset\n",
        "#as we see there are no null values in the dataset, so the data can be processed"
      ],
      "metadata": {
        "colab": {
          "base_uri": "https://localhost:8080/"
        },
        "id": "tbm0DyKotPgI",
        "outputId": "a69e4543-8f1b-492d-fa61-817224575bed"
      },
      "execution_count": 74,
      "outputs": [
        {
          "output_type": "stream",
          "name": "stdout",
          "text": [
            "<class 'pandas.core.frame.DataFrame'>\n",
            "RangeIndex: 150 entries, 0 to 149\n",
            "Data columns (total 5 columns):\n",
            " #   Column        Non-Null Count  Dtype  \n",
            "---  ------        --------------  -----  \n",
            " 0   Sepal Length  150 non-null    float64\n",
            " 1   Sepal Width   150 non-null    float64\n",
            " 2   Petal Length  150 non-null    float64\n",
            " 3   Petal Width   150 non-null    float64\n",
            " 4   Species       150 non-null    object \n",
            "dtypes: float64(4), object(1)\n",
            "memory usage: 6.0+ KB\n"
          ]
        }
      ]
    },
    {
      "cell_type": "code",
      "source": [
        "#Checking the dimensions....\n",
        "iris.shape"
      ],
      "metadata": {
        "colab": {
          "base_uri": "https://localhost:8080/"
        },
        "id": "w_n9K8y6CiGB",
        "outputId": "8ce0a198-8b62-40be-b2db-6971d9978e4e"
      },
      "execution_count": 75,
      "outputs": [
        {
          "output_type": "execute_result",
          "data": {
            "text/plain": [
              "(150, 5)"
            ]
          },
          "metadata": {},
          "execution_count": 75
        }
      ]
    },
    {
      "cell_type": "markdown",
      "source": [
        "###SCRUB"
      ],
      "metadata": {
        "id": "TRoX9hhp5EJb"
      }
    },
    {
      "cell_type": "markdown",
      "source": [
        "Comprobación de valores duplicados"
      ],
      "metadata": {
        "id": "8etRbKW16KRv"
      }
    },
    {
      "cell_type": "code",
      "source": [
        "print('Duplicados: {}'.format(sum(iris.duplicated())))"
      ],
      "metadata": {
        "colab": {
          "base_uri": "https://localhost:8080/"
        },
        "id": "uhRleWtH46VV",
        "outputId": "dba5aa70-00db-4125-b77d-5bc3d11c2d25"
      },
      "execution_count": 76,
      "outputs": [
        {
          "output_type": "stream",
          "name": "stdout",
          "text": [
            "Duplicados: 3\n"
          ]
        }
      ]
    },
    {
      "cell_type": "markdown",
      "source": [
        "Comprobación de valores nulos"
      ],
      "metadata": {
        "id": "1BuSzwER7Iec"
      }
    },
    {
      "cell_type": "code",
      "source": [
        "print('Tenemos {} valores NaN/Null'.format(iris.isnull().values.sum()))"
      ],
      "metadata": {
        "colab": {
          "base_uri": "https://localhost:8080/"
        },
        "id": "dhLyr8p56ZsQ",
        "outputId": "e07499e5-5ff2-441b-bc2c-68171eeae6e7"
      },
      "execution_count": 77,
      "outputs": [
        {
          "output_type": "stream",
          "name": "stdout",
          "text": [
            "Tenemos 0 valores NaN/Null\n"
          ]
        }
      ]
    },
    {
      "cell_type": "code",
      "source": [
        "#checking whether a dataset contain a missing value or not/.....\n",
        "iris.isnull().sum()"
      ],
      "metadata": {
        "colab": {
          "base_uri": "https://localhost:8080/"
        },
        "id": "D2uZMbjwCojP",
        "outputId": "456ea2b3-1088-4fd7-bc55-9fa870693ba8"
      },
      "execution_count": 78,
      "outputs": [
        {
          "output_type": "execute_result",
          "data": {
            "text/plain": [
              "Sepal Length    0\n",
              "Sepal Width     0\n",
              "Petal Length    0\n",
              "Petal Width     0\n",
              "Species         0\n",
              "dtype: int64"
            ]
          },
          "metadata": {},
          "execution_count": 78
        }
      ]
    },
    {
      "cell_type": "code",
      "source": [
        "#Checkig the unique values in species column which is our target variable..\n",
        "iris[\"Species\"].unique()"
      ],
      "metadata": {
        "colab": {
          "base_uri": "https://localhost:8080/"
        },
        "id": "dGCJtiMwD9Ec",
        "outputId": "b515c708-f8fc-4087-ab80-15bdec58c51b"
      },
      "execution_count": 79,
      "outputs": [
        {
          "output_type": "execute_result",
          "data": {
            "text/plain": [
              "array(['Iris-setosa', 'Iris-versicolor', 'Iris-virginica'], dtype=object)"
            ]
          },
          "metadata": {},
          "execution_count": 79
        }
      ]
    },
    {
      "cell_type": "markdown",
      "source": [
        "###EXPLORE"
      ],
      "metadata": {
        "id": "KLMWX2CPCLtx"
      }
    },
    {
      "cell_type": "code",
      "source": [
        "# Creating a pairplot to visualize the similarities and especially difference between the species\n",
        "sns.pairplot(data=iris, hue='Species', palette='Set2')"
      ],
      "metadata": {
        "colab": {
          "base_uri": "https://localhost:8080/",
          "height": 743
        },
        "id": "zFjTRGRsrFme",
        "outputId": "ea6f07d8-1f04-4b4c-fb61-61c99288cf37"
      },
      "execution_count": 80,
      "outputs": [
        {
          "output_type": "execute_result",
          "data": {
            "text/plain": [
              "<seaborn.axisgrid.PairGrid at 0x7fc0b7e1ac70>"
            ]
          },
          "metadata": {},
          "execution_count": 80
        },
        {
          "output_type": "display_data",
          "data": {
            "text/plain": [
              "<Figure size 823.25x720 with 20 Axes>"
            ],
            "image/png": "[encoded data removed]"
          },
          "metadata": {
            "needs_background": "light"
          }
        }
      ]
    },
    {
      "cell_type": "markdown",
      "source": [
        "- Hay 150 observaciones con 4 características cada una (longitud del sépalo, anchura del sépalo, longitud del pétalo, anchura del pétalo).\n",
        "- No hay valores nulos, por lo que no tenemos que preocuparnos por eso.\n",
        "- Hay 50 observaciones de cada especie (setosa, versicolor, virginica)."
      ],
      "metadata": {
        "id": "-PLSu3U-CXjC"
      }
    },
    {
      "cell_type": "markdown",
      "source": [
        "Visualización 1: Longitud del sépalo VS Ancho\n",
        "- Este gráfico muestra la relación entre la longitud del sépalo y el ancho del sépalo."
      ],
      "metadata": {
        "id": "ctKpr_tbLFFw"
      }
    },
    {
      "cell_type": "code",
      "source": [
        "fig = iris[iris.Species=='Iris-setosa'].plot(kind='scatter',x='Sepal Length',y='Sepal Width',color='orange', label='Setosa')\n",
        "iris[iris.Species=='Iris-versicolor'].plot(kind='scatter',x='Sepal Length',y='Sepal Width',color='blue', label='versicolor',ax=fig)\n",
        "iris[iris.Species=='Iris-virginica'].plot(kind='scatter',x='Sepal Length',y='Sepal Width',color='green', label='virginica', ax=fig)\n",
        "fig.set_xlabel(\"Sepal Length\")\n",
        "fig.set_ylabel(\"Sepal Width\")\n",
        "fig.set_title(\"Sepal Length VS Width\")\n",
        "fig=plt.gcf()\n",
        "fig.set_size_inches(12,8)\n",
        "plt.show()"
      ],
      "metadata": {
        "colab": {
          "base_uri": "https://localhost:8080/",
          "height": 513
        },
        "id": "lzSIPYSxJ4m4",
        "outputId": "12b5bc69-567b-4b77-eb89-645d47102b2b"
      },
      "execution_count": 81,
      "outputs": [
        {
          "output_type": "display_data",
          "data": {
            "text/plain": [
              "<Figure size 864x576 with 1 Axes>"
            ],
            "image/png": "[encoded data removed]"
          },
          "metadata": {
            "needs_background": "light"
          }
        }
      ]
    },
    {
      "cell_type": "markdown",
      "source": [
        "Visualización 2: Longitud del sépalo VS Ancho\n",
        "- Este gráfico muestra la relación entre la longitud y el ancho de los pétalos."
      ],
      "metadata": {
        "id": "2VKHm1bLK_Ri"
      }
    },
    {
      "cell_type": "code",
      "source": [
        "fig = iris[iris.Species=='Iris-setosa'].plot.scatter(x='Petal Length',y='Petal Width',color='orange', label='Setosa')\n",
        "iris[iris.Species=='Iris-versicolor'].plot.scatter(x='Petal Length',y='Petal Width',color='blue', label='versicolor',ax=fig)\n",
        "iris[iris.Species=='Iris-virginica'].plot.scatter(x='Petal Length',y='Petal Width',color='green', label='virginica', ax=fig)\n",
        "fig.set_xlabel(\"Petal Length\")\n",
        "fig.set_ylabel(\"Petal Width\")\n",
        "fig.set_title(\" Petal Length VS Width\")\n",
        "fig=plt.gcf()\n",
        "fig.set_size_inches(12,8)\n",
        "plt.show()"
      ],
      "metadata": {
        "colab": {
          "base_uri": "https://localhost:8080/",
          "height": 513
        },
        "id": "GhHsvW6WK5is",
        "outputId": "f3579a90-ed9c-4d38-a366-eb769d7c4490"
      },
      "execution_count": 84,
      "outputs": [
        {
          "output_type": "display_data",
          "data": {
            "text/plain": [
              "<Figure size 864x576 with 1 Axes>"
            ],
            "image/png": "[encoded data removed]"
          },
          "metadata": {
            "needs_background": "light"
          }
        }
      ]
    },
    {
      "cell_type": "markdown",
      "source": [
        "Como podemos ver, las características de los pétalos ofrecen una mejor división de grupos en comparación con las características de los sépalos. Esta es una indicación de que los Pétalos pueden ayudar en Predicciones mejores y precisas sobre el Sépalo. Lo comprobaremos más tarde."
      ],
      "metadata": {
        "id": "XRr8PD9ZLlyw"
      }
    },
    {
      "cell_type": "markdown",
      "source": [
        "###MODEL"
      ],
      "metadata": {
        "id": "8dbJmC3s8uEX"
      }
    },
    {
      "cell_type": "markdown",
      "source": [
        "####**SVM** "
      ],
      "metadata": {
        "id": "smoHoXpG8w3o"
      }
    },
    {
      "cell_type": "code",
      "source": [
        "\n",
        "# Se divide la matriz del dataset en dos partes\n",
        "\n",
        "#X = df.iloc[:,0:4].values\n",
        "# la submatriz x contiene los valores de las primeras 4 columnas del dataframe y todas las filas\n",
        "\n",
        "#y = df.iloc[:,4].values\n",
        "# El vector y contiene los valores de la 4 columna (especie)para todas las filas\n",
        "\n"
      ],
      "metadata": {
        "id": "oYaDnrjysLuQ"
      },
      "execution_count": 15,
      "outputs": []
    },
    {
      "cell_type": "code",
      "source": [
        "from sklearn.model_selection import train_test_split"
      ],
      "metadata": {
        "id": "QQHYGljXsduD"
      },
      "execution_count": 17,
      "outputs": []
    },
    {
      "cell_type": "code",
      "source": [
        "# Separating the independent variables from dependent variables\n",
        "x_svm=iris.iloc[:,:-1]\n",
        "y_svm=iris.iloc[:,4]\n",
        "x_train_svm, x_test_svm, y_train_svm, y_test_svm = train_test_split(x_svm, y_svm, test_size=0.30)"
      ],
      "metadata": {
        "id": "W7CPsuHNsTEE"
      },
      "execution_count": 42,
      "outputs": []
    },
    {
      "cell_type": "code",
      "source": [
        "print(\"Size of training data: \", len(x_train_svm))\n",
        "print(\"Size of test data: \", len(x_test_svm))"
      ],
      "metadata": {
        "colab": {
          "base_uri": "https://localhost:8080/"
        },
        "id": "ek_e_R8RJPup",
        "outputId": "2ec0b2ca-947a-4cca-992f-917e0f70dc82"
      },
      "execution_count": 86,
      "outputs": [
        {
          "output_type": "stream",
          "name": "stdout",
          "text": [
            "Size of training data:  105\n",
            "Size of test data:  45\n"
          ]
        }
      ]
    },
    {
      "cell_type": "code",
      "source": [
        "print(x_train_svm.shape)\n",
        "print(y_train_svm.shape)\n",
        "print(x_test_svm.shape)\n",
        "print(y_test_svm.shape)"
      ],
      "metadata": {
        "colab": {
          "base_uri": "https://localhost:8080/"
        },
        "id": "WMv1-oUsLzE0",
        "outputId": "53943621-f766-4da2-821d-23004f46baeb"
      },
      "execution_count": 87,
      "outputs": [
        {
          "output_type": "stream",
          "name": "stdout",
          "text": [
            "(105, 4)\n",
            "(105,)\n",
            "(45, 4)\n",
            "(45,)\n"
          ]
        }
      ]
    },
    {
      "cell_type": "code",
      "source": [
        "y_svm"
      ],
      "metadata": {
        "colab": {
          "base_uri": "https://localhost:8080/"
        },
        "id": "sA2UQotkGQS9",
        "outputId": "e0c86519-be83-4b04-b5e5-4968de1f9842"
      },
      "execution_count": 51,
      "outputs": [
        {
          "output_type": "execute_result",
          "data": {
            "text/plain": [
              "0         Iris-setosa\n",
              "1         Iris-setosa\n",
              "2         Iris-setosa\n",
              "3         Iris-setosa\n",
              "4         Iris-setosa\n",
              "            ...      \n",
              "145    Iris-virginica\n",
              "146    Iris-virginica\n",
              "147    Iris-virginica\n",
              "148    Iris-virginica\n",
              "149    Iris-virginica\n",
              "Name: class, Length: 150, dtype: object"
            ]
          },
          "metadata": {},
          "execution_count": 51
        }
      ]
    },
    {
      "cell_type": "markdown",
      "source": [
        "Training and Fitting the model"
      ],
      "metadata": {
        "id": "LH9dtzSXsh-T"
      }
    },
    {
      "cell_type": "code",
      "source": [
        "from sklearn.svm import SVC\n",
        "model=SVC()"
      ],
      "metadata": {
        "id": "SdaK_WyTsi3_"
      },
      "execution_count": 36,
      "outputs": []
    },
    {
      "cell_type": "code",
      "source": [
        "model.fit(x_train_svm, y_train_svm)"
      ],
      "metadata": {
        "colab": {
          "base_uri": "https://localhost:8080/"
        },
        "id": "ZM8RjzdIslVg",
        "outputId": "edbf07b3-e0ea-42bb-b57a-3f399a5a3249"
      },
      "execution_count": 43,
      "outputs": [
        {
          "output_type": "execute_result",
          "data": {
            "text/plain": [
              "SVC()"
            ]
          },
          "metadata": {},
          "execution_count": 43
        }
      ]
    },
    {
      "cell_type": "markdown",
      "source": [
        "Predictions from the trained model"
      ],
      "metadata": {
        "id": "TnJGp44dsr3S"
      }
    },
    {
      "cell_type": "code",
      "source": [
        "pred_svm = model.predict(x_test_svm)"
      ],
      "metadata": {
        "id": "oY6eG46UsnyY"
      },
      "execution_count": 46,
      "outputs": []
    },
    {
      "cell_type": "markdown",
      "source": [
        "Model Evaluation"
      ],
      "metadata": {
        "id": "F6DiePNqsxw_"
      }
    },
    {
      "cell_type": "code",
      "source": [
        "# Importing the classification report and confusion matrix\n",
        "from sklearn.metrics import classification_report, confusion_matrix"
      ],
      "metadata": {
        "id": "3TAKKLZisucd"
      },
      "execution_count": 39,
      "outputs": []
    },
    {
      "cell_type": "code",
      "source": [
        "print(confusion_matrix(y_test_svm, pred_svm))"
      ],
      "metadata": {
        "colab": {
          "base_uri": "https://localhost:8080/"
        },
        "id": "WuotHZDvs0s8",
        "outputId": "912e6a2b-93a9-4c1b-ec42-aac23b3c9fb4"
      },
      "execution_count": 48,
      "outputs": [
        {
          "output_type": "stream",
          "name": "stdout",
          "text": [
            "[[14  0  0]\n",
            " [ 0 14  1]\n",
            " [ 0  3 13]]\n"
          ]
        }
      ]
    },
    {
      "cell_type": "code",
      "source": [
        "print(classification_report(y_test_svm, pred_svm))"
      ],
      "metadata": {
        "colab": {
          "base_uri": "https://localhost:8080/"
        },
        "id": "rTf6p9L2s2-F",
        "outputId": "7fc4a2fe-d91a-45f9-f9dd-b999f8bda53b"
      },
      "execution_count": 49,
      "outputs": [
        {
          "output_type": "stream",
          "name": "stdout",
          "text": [
            "                 precision    recall  f1-score   support\n",
            "\n",
            "    Iris-setosa       1.00      1.00      1.00        14\n",
            "Iris-versicolor       0.82      0.93      0.87        15\n",
            " Iris-virginica       0.93      0.81      0.87        16\n",
            "\n",
            "       accuracy                           0.91        45\n",
            "      macro avg       0.92      0.92      0.91        45\n",
            "   weighted avg       0.92      0.91      0.91        45\n",
            "\n"
          ]
        }
      ]
    },
    {
      "cell_type": "code",
      "source": [
        "#sv = svm.SVC() #select the algorithm\n",
        "#sv.fit(X_train,y_train) # we train the algorithm with the training data and the training output\n",
        "#y_pred = sv.predict(X_test) #now we pass the testing data to the trained algorithm\n",
        "#acc_svm = metrics.accuracy_score(y_pred,y_test)\n",
        "#print('The accuracy of the SVM is:', acc_svm)"
      ],
      "metadata": {
        "id": "YmnydsBmMSIZ"
      },
      "execution_count": 90,
      "outputs": []
    },
    {
      "cell_type": "markdown",
      "source": [
        "###Random Forest\n"
      ],
      "metadata": {
        "id": "GJgO3cIy80ZB"
      }
    },
    {
      "cell_type": "markdown",
      "source": [
        "Random Forest es un algoritmo de aprendizaje automático flexible y fácil de usar que produce, incluso sin ajuste de hiperparámetros, un gran resultado la mayor parte del tiempo. También es uno de los algoritmos más utilizados, por su sencillez y por el hecho de que se puede utilizar tanto para tareas de clasificación como de regresión."
      ],
      "metadata": {
        "id": "y-4TJ8qlAmNn"
      }
    },
    {
      "cell_type": "code",
      "source": [
        "#Separating dependent and independent values..\n",
        "X_rf = iris.iloc[:, :-1].values\n",
        "X_rf"
      ],
      "metadata": {
        "colab": {
          "base_uri": "https://localhost:8080/"
        },
        "id": "aT9NynviGqbV",
        "outputId": "60c385ae-a0b3-4fd3-bceb-98ca6dff64e4"
      },
      "execution_count": 61,
      "outputs": [
        {
          "output_type": "execute_result",
          "data": {
            "text/plain": [
              "array([[5.1, 3.5, 1.4, 0.2],\n",
              "       [4.9, 3. , 1.4, 0.2],\n",
              "       [4.7, 3.2, 1.3, 0.2],\n",
              "       [4.6, 3.1, 1.5, 0.2],\n",
              "       [5. , 3.6, 1.4, 0.2],\n",
              "       [5.4, 3.9, 1.7, 0.4],\n",
              "       [4.6, 3.4, 1.4, 0.3],\n",
              "       [5. , 3.4, 1.5, 0.2],\n",
              "       [4.4, 2.9, 1.4, 0.2],\n",
              "       [4.9, 3.1, 1.5, 0.1],\n",
              "       [5.4, 3.7, 1.5, 0.2],\n",
              "       [4.8, 3.4, 1.6, 0.2],\n",
              "       [4.8, 3. , 1.4, 0.1],\n",
              "       [4.3, 3. , 1.1, 0.1],\n",
              "       [5.8, 4. , 1.2, 0.2],\n",
              "       [5.7, 4.4, 1.5, 0.4],\n",
              "       [5.4, 3.9, 1.3, 0.4],\n",
              "       [5.1, 3.5, 1.4, 0.3],\n",
              "       [5.7, 3.8, 1.7, 0.3],\n",
              "       [5.1, 3.8, 1.5, 0.3],\n",
              "       [5.4, 3.4, 1.7, 0.2],\n",
              "       [5.1, 3.7, 1.5, 0.4],\n",
              "       [4.6, 3.6, 1. , 0.2],\n",
              "       [5.1, 3.3, 1.7, 0.5],\n",
              "       [4.8, 3.4, 1.9, 0.2],\n",
              "       [5. , 3. , 1.6, 0.2],\n",
              "       [5. , 3.4, 1.6, 0.4],\n",
              "       [5.2, 3.5, 1.5, 0.2],\n",
              "       [5.2, 3.4, 1.4, 0.2],\n",
              "       [4.7, 3.2, 1.6, 0.2],\n",
              "       [4.8, 3.1, 1.6, 0.2],\n",
              "       [5.4, 3.4, 1.5, 0.4],\n",
              "       [5.2, 4.1, 1.5, 0.1],\n",
              "       [5.5, 4.2, 1.4, 0.2],\n",
              "       [4.9, 3.1, 1.5, 0.1],\n",
              "       [5. , 3.2, 1.2, 0.2],\n",
              "       [5.5, 3.5, 1.3, 0.2],\n",
              "       [4.9, 3.1, 1.5, 0.1],\n",
              "       [4.4, 3. , 1.3, 0.2],\n",
              "       [5.1, 3.4, 1.5, 0.2],\n",
              "       [5. , 3.5, 1.3, 0.3],\n",
              "       [4.5, 2.3, 1.3, 0.3],\n",
              "       [4.4, 3.2, 1.3, 0.2],\n",
              "       [5. , 3.5, 1.6, 0.6],\n",
              "       [5.1, 3.8, 1.9, 0.4],\n",
              "       [4.8, 3. , 1.4, 0.3],\n",
              "       [5.1, 3.8, 1.6, 0.2],\n",
              "       [4.6, 3.2, 1.4, 0.2],\n",
              "       [5.3, 3.7, 1.5, 0.2],\n",
              "       [5. , 3.3, 1.4, 0.2],\n",
              "       [7. , 3.2, 4.7, 1.4],\n",
              "       [6.4, 3.2, 4.5, 1.5],\n",
              "       [6.9, 3.1, 4.9, 1.5],\n",
              "       [5.5, 2.3, 4. , 1.3],\n",
              "       [6.5, 2.8, 4.6, 1.5],\n",
              "       [5.7, 2.8, 4.5, 1.3],\n",
              "       [6.3, 3.3, 4.7, 1.6],\n",
              "       [4.9, 2.4, 3.3, 1. ],\n",
              "       [6.6, 2.9, 4.6, 1.3],\n",
              "       [5.2, 2.7, 3.9, 1.4],\n",
              "       [5. , 2. , 3.5, 1. ],\n",
              "       [5.9, 3. , 4.2, 1.5],\n",
              "       [6. , 2.2, 4. , 1. ],\n",
              "       [6.1, 2.9, 4.7, 1.4],\n",
              "       [5.6, 2.9, 3.6, 1.3],\n",
              "       [6.7, 3.1, 4.4, 1.4],\n",
              "       [5.6, 3. , 4.5, 1.5],\n",
              "       [5.8, 2.7, 4.1, 1. ],\n",
              "       [6.2, 2.2, 4.5, 1.5],\n",
              "       [5.6, 2.5, 3.9, 1.1],\n",
              "       [5.9, 3.2, 4.8, 1.8],\n",
              "       [6.1, 2.8, 4. , 1.3],\n",
              "       [6.3, 2.5, 4.9, 1.5],\n",
              "       [6.1, 2.8, 4.7, 1.2],\n",
              "       [6.4, 2.9, 4.3, 1.3],\n",
              "       [6.6, 3. , 4.4, 1.4],\n",
              "       [6.8, 2.8, 4.8, 1.4],\n",
              "       [6.7, 3. , 5. , 1.7],\n",
              "       [6. , 2.9, 4.5, 1.5],\n",
              "       [5.7, 2.6, 3.5, 1. ],\n",
              "       [5.5, 2.4, 3.8, 1.1],\n",
              "       [5.5, 2.4, 3.7, 1. ],\n",
              "       [5.8, 2.7, 3.9, 1.2],\n",
              "       [6. , 2.7, 5.1, 1.6],\n",
              "       [5.4, 3. , 4.5, 1.5],\n",
              "       [6. , 3.4, 4.5, 1.6],\n",
              "       [6.7, 3.1, 4.7, 1.5],\n",
              "       [6.3, 2.3, 4.4, 1.3],\n",
              "       [5.6, 3. , 4.1, 1.3],\n",
              "       [5.5, 2.5, 4. , 1.3],\n",
              "       [5.5, 2.6, 4.4, 1.2],\n",
              "       [6.1, 3. , 4.6, 1.4],\n",
              "       [5.8, 2.6, 4. , 1.2],\n",
              "       [5. , 2.3, 3.3, 1. ],\n",
              "       [5.6, 2.7, 4.2, 1.3],\n",
              "       [5.7, 3. , 4.2, 1.2],\n",
              "       [5.7, 2.9, 4.2, 1.3],\n",
              "       [6.2, 2.9, 4.3, 1.3],\n",
              "       [5.1, 2.5, 3. , 1.1],\n",
              "       [5.7, 2.8, 4.1, 1.3],\n",
              "       [6.3, 3.3, 6. , 2.5],\n",
              "       [5.8, 2.7, 5.1, 1.9],\n",
              "       [7.1, 3. , 5.9, 2.1],\n",
              "       [6.3, 2.9, 5.6, 1.8],\n",
              "       [6.5, 3. , 5.8, 2.2],\n",
              "       [7.6, 3. , 6.6, 2.1],\n",
              "       [4.9, 2.5, 4.5, 1.7],\n",
              "       [7.3, 2.9, 6.3, 1.8],\n",
              "       [6.7, 2.5, 5.8, 1.8],\n",
              "       [7.2, 3.6, 6.1, 2.5],\n",
              "       [6.5, 3.2, 5.1, 2. ],\n",
              "       [6.4, 2.7, 5.3, 1.9],\n",
              "       [6.8, 3. , 5.5, 2.1],\n",
              "       [5.7, 2.5, 5. , 2. ],\n",
              "       [5.8, 2.8, 5.1, 2.4],\n",
              "       [6.4, 3.2, 5.3, 2.3],\n",
              "       [6.5, 3. , 5.5, 1.8],\n",
              "       [7.7, 3.8, 6.7, 2.2],\n",
              "       [7.7, 2.6, 6.9, 2.3],\n",
              "       [6. , 2.2, 5. , 1.5],\n",
              "       [6.9, 3.2, 5.7, 2.3],\n",
              "       [5.6, 2.8, 4.9, 2. ],\n",
              "       [7.7, 2.8, 6.7, 2. ],\n",
              "       [6.3, 2.7, 4.9, 1.8],\n",
              "       [6.7, 3.3, 5.7, 2.1],\n",
              "       [7.2, 3.2, 6. , 1.8],\n",
              "       [6.2, 2.8, 4.8, 1.8],\n",
              "       [6.1, 3. , 4.9, 1.8],\n",
              "       [6.4, 2.8, 5.6, 2.1],\n",
              "       [7.2, 3. , 5.8, 1.6],\n",
              "       [7.4, 2.8, 6.1, 1.9],\n",
              "       [7.9, 3.8, 6.4, 2. ],\n",
              "       [6.4, 2.8, 5.6, 2.2],\n",
              "       [6.3, 2.8, 5.1, 1.5],\n",
              "       [6.1, 2.6, 5.6, 1.4],\n",
              "       [7.7, 3. , 6.1, 2.3],\n",
              "       [6.3, 3.4, 5.6, 2.4],\n",
              "       [6.4, 3.1, 5.5, 1.8],\n",
              "       [6. , 3. , 4.8, 1.8],\n",
              "       [6.9, 3.1, 5.4, 2.1],\n",
              "       [6.7, 3.1, 5.6, 2.4],\n",
              "       [6.9, 3.1, 5.1, 2.3],\n",
              "       [5.8, 2.7, 5.1, 1.9],\n",
              "       [6.8, 3.2, 5.9, 2.3],\n",
              "       [6.7, 3.3, 5.7, 2.5],\n",
              "       [6.7, 3. , 5.2, 2.3],\n",
              "       [6.3, 2.5, 5. , 1.9],\n",
              "       [6.5, 3. , 5.2, 2. ],\n",
              "       [6.2, 3.4, 5.4, 2.3],\n",
              "       [5.9, 3. , 5.1, 1.8]])"
            ]
          },
          "metadata": {},
          "execution_count": 61
        }
      ]
    },
    {
      "cell_type": "code",
      "source": [
        "y_rf = iris.iloc[:, -1].values\n",
        "y_rf"
      ],
      "metadata": {
        "colab": {
          "base_uri": "https://localhost:8080/"
        },
        "id": "MFWqNooe83Y0",
        "outputId": "7f429e99-0745-4ddd-9318-64568ebb2a07"
      },
      "execution_count": 50,
      "outputs": [
        {
          "output_type": "execute_result",
          "data": {
            "text/plain": [
              "array(['Iris-setosa', 'Iris-setosa', 'Iris-setosa', 'Iris-setosa',\n",
              "       'Iris-setosa', 'Iris-setosa', 'Iris-setosa', 'Iris-setosa',\n",
              "       'Iris-setosa', 'Iris-setosa', 'Iris-setosa', 'Iris-setosa',\n",
              "       'Iris-setosa', 'Iris-setosa', 'Iris-setosa', 'Iris-setosa',\n",
              "       'Iris-setosa', 'Iris-setosa', 'Iris-setosa', 'Iris-setosa',\n",
              "       'Iris-setosa', 'Iris-setosa', 'Iris-setosa', 'Iris-setosa',\n",
              "       'Iris-setosa', 'Iris-setosa', 'Iris-setosa', 'Iris-setosa',\n",
              "       'Iris-setosa', 'Iris-setosa', 'Iris-setosa', 'Iris-setosa',\n",
              "       'Iris-setosa', 'Iris-setosa', 'Iris-setosa', 'Iris-setosa',\n",
              "       'Iris-setosa', 'Iris-setosa', 'Iris-setosa', 'Iris-setosa',\n",
              "       'Iris-setosa', 'Iris-setosa', 'Iris-setosa', 'Iris-setosa',\n",
              "       'Iris-setosa', 'Iris-setosa', 'Iris-setosa', 'Iris-setosa',\n",
              "       'Iris-setosa', 'Iris-setosa', 'Iris-versicolor', 'Iris-versicolor',\n",
              "       'Iris-versicolor', 'Iris-versicolor', 'Iris-versicolor',\n",
              "       'Iris-versicolor', 'Iris-versicolor', 'Iris-versicolor',\n",
              "       'Iris-versicolor', 'Iris-versicolor', 'Iris-versicolor',\n",
              "       'Iris-versicolor', 'Iris-versicolor', 'Iris-versicolor',\n",
              "       'Iris-versicolor', 'Iris-versicolor', 'Iris-versicolor',\n",
              "       'Iris-versicolor', 'Iris-versicolor', 'Iris-versicolor',\n",
              "       'Iris-versicolor', 'Iris-versicolor', 'Iris-versicolor',\n",
              "       'Iris-versicolor', 'Iris-versicolor', 'Iris-versicolor',\n",
              "       'Iris-versicolor', 'Iris-versicolor', 'Iris-versicolor',\n",
              "       'Iris-versicolor', 'Iris-versicolor', 'Iris-versicolor',\n",
              "       'Iris-versicolor', 'Iris-versicolor', 'Iris-versicolor',\n",
              "       'Iris-versicolor', 'Iris-versicolor', 'Iris-versicolor',\n",
              "       'Iris-versicolor', 'Iris-versicolor', 'Iris-versicolor',\n",
              "       'Iris-versicolor', 'Iris-versicolor', 'Iris-versicolor',\n",
              "       'Iris-versicolor', 'Iris-versicolor', 'Iris-versicolor',\n",
              "       'Iris-versicolor', 'Iris-versicolor', 'Iris-versicolor',\n",
              "       'Iris-virginica', 'Iris-virginica', 'Iris-virginica',\n",
              "       'Iris-virginica', 'Iris-virginica', 'Iris-virginica',\n",
              "       'Iris-virginica', 'Iris-virginica', 'Iris-virginica',\n",
              "       'Iris-virginica', 'Iris-virginica', 'Iris-virginica',\n",
              "       'Iris-virginica', 'Iris-virginica', 'Iris-virginica',\n",
              "       'Iris-virginica', 'Iris-virginica', 'Iris-virginica',\n",
              "       'Iris-virginica', 'Iris-virginica', 'Iris-virginica',\n",
              "       'Iris-virginica', 'Iris-virginica', 'Iris-virginica',\n",
              "       'Iris-virginica', 'Iris-virginica', 'Iris-virginica',\n",
              "       'Iris-virginica', 'Iris-virginica', 'Iris-virginica',\n",
              "       'Iris-virginica', 'Iris-virginica', 'Iris-virginica',\n",
              "       'Iris-virginica', 'Iris-virginica', 'Iris-virginica',\n",
              "       'Iris-virginica', 'Iris-virginica', 'Iris-virginica',\n",
              "       'Iris-virginica', 'Iris-virginica', 'Iris-virginica',\n",
              "       'Iris-virginica', 'Iris-virginica', 'Iris-virginica',\n",
              "       'Iris-virginica', 'Iris-virginica', 'Iris-virginica',\n",
              "       'Iris-virginica', 'Iris-virginica'], dtype=object)"
            ]
          },
          "metadata": {},
          "execution_count": 50
        }
      ]
    },
    {
      "cell_type": "code",
      "source": [
        "#splitting into training set and test.\n",
        "from sklearn.model_selection import train_test_split\n",
        "X_train_rf, X_test_rf, y_train_rf, y_test_rf = train_test_split(X_rf, y_rf ,test_size = 0.2, random_state = 123)"
      ],
      "metadata": {
        "id": "CALDOfP9Gcle"
      },
      "execution_count": 53,
      "outputs": []
    },
    {
      "cell_type": "code",
      "source": [
        "# Feature Scaling\n",
        "from sklearn.preprocessing import StandardScaler\n",
        "sc = StandardScaler()\n",
        "X_train_rf = sc.fit_transform(X_train_rf)\n",
        "X_test_rf = sc.transform(X_test_rf)"
      ],
      "metadata": {
        "id": "EwZ3SjMJG4-q"
      },
      "execution_count": 54,
      "outputs": []
    },
    {
      "cell_type": "code",
      "source": [
        "print(\"Size of training data: \", len(X_train_rf))\n",
        "print(\"Size of test data: \", len(X_test_rf))"
      ],
      "metadata": {
        "colab": {
          "base_uri": "https://localhost:8080/"
        },
        "id": "eUBu2J6-JFHV",
        "outputId": "73aeacf3-bf98-4293-e168-9922cce6180e"
      },
      "execution_count": 59,
      "outputs": [
        {
          "output_type": "stream",
          "name": "stdout",
          "text": [
            "Size of training data:  120\n",
            "Size of test data:  30\n"
          ]
        }
      ]
    },
    {
      "cell_type": "code",
      "source": [
        "print(X_train_rf.shape)\n",
        "print(y_train_rf.shape)\n",
        "print(X_test_rf.shape)\n",
        "print(y_test_rf.shape)"
      ],
      "metadata": {
        "colab": {
          "base_uri": "https://localhost:8080/"
        },
        "id": "OXdZlMoIMAum",
        "outputId": "2dc4b388-24b8-4c11-8bce-a3ce13186dd6"
      },
      "execution_count": 89,
      "outputs": [
        {
          "output_type": "stream",
          "name": "stdout",
          "text": [
            "(120, 4)\n",
            "(120,)\n",
            "(30, 4)\n",
            "(30,)\n"
          ]
        }
      ]
    },
    {
      "cell_type": "code",
      "source": [
        "# Fitting Random Forest Classification to the Training set\n",
        "from sklearn.ensemble import RandomForestClassifier\n",
        "classifier = RandomForestClassifier(n_estimators = 10, criterion = 'entropy', random_state = 0)\n",
        "classifier.fit(X_train_rf, y_train_rf)"
      ],
      "metadata": {
        "colab": {
          "base_uri": "https://localhost:8080/"
        },
        "id": "lYq-BMG9HD8p",
        "outputId": "4101f3cb-810c-4084-b6c1-583795c20f30"
      },
      "execution_count": 55,
      "outputs": [
        {
          "output_type": "execute_result",
          "data": {
            "text/plain": [
              "RandomForestClassifier(criterion='entropy', n_estimators=10, random_state=0)"
            ]
          },
          "metadata": {},
          "execution_count": 55
        }
      ]
    },
    {
      "cell_type": "code",
      "source": [
        "# Predicting the Test set results\n",
        "y_pred_rf = classifier.predict(X_test_rf)"
      ],
      "metadata": {
        "id": "T6VGw6QlHNnC"
      },
      "execution_count": 56,
      "outputs": []
    },
    {
      "cell_type": "code",
      "source": [
        "# Making the Confusion Matrix\n",
        "from sklearn.metrics import confusion_matrix\n",
        "cm_rf = confusion_matrix(y_test_rf, y_pred_rf)\n",
        "cm_rf"
      ],
      "metadata": {
        "colab": {
          "base_uri": "https://localhost:8080/"
        },
        "id": "HcFZCTTeHS7l",
        "outputId": "707f6477-0a0c-408d-ee53-775bba303df2"
      },
      "execution_count": 57,
      "outputs": [
        {
          "output_type": "execute_result",
          "data": {
            "text/plain": [
              "array([[13,  0,  0],\n",
              "       [ 0,  5,  1],\n",
              "       [ 0,  2,  9]])"
            ]
          },
          "metadata": {},
          "execution_count": 57
        }
      ]
    },
    {
      "cell_type": "code",
      "source": [
        "from sklearn import metrics #for checking the model accuracy\n",
        "print('The accuracy of the Random forest is:',metrics.accuracy_score(y_pred_rf, y_test_rf))"
      ],
      "metadata": {
        "colab": {
          "base_uri": "https://localhost:8080/"
        },
        "id": "fda30Rl3HZNo",
        "outputId": "d0cf877e-bd63-403f-a030-902a7475d60c"
      },
      "execution_count": 58,
      "outputs": [
        {
          "output_type": "stream",
          "name": "stdout",
          "text": [
            "The accuracy of the Random forest is: 0.9\n"
          ]
        }
      ]
    },
    {
      "cell_type": "markdown",
      "source": [
        "###XG Boost"
      ],
      "metadata": {
        "id": "hSlVTGk586Lt"
      }
    },
    {
      "cell_type": "code",
      "source": [
        "from sklearn import datasets\n",
        "from sklearn.model_selection import train_test_split\n",
        "import xgboost as xgb\n",
        "import numpy as np\n",
        "from sklearn.metrics import precision_score\n",
        "\n",
        "\n",
        "iris = datasets.load_iris()\n",
        "X_xg = iris.data\n",
        "y_xg  = iris.target\n",
        "X_train_xg , X_test_xg , y_train_xg , y_test_xg  = train_test_split(\n",
        "   X_xg , y_xg , test_size=0.20, random_state=42\n",
        ")\n",
        "dtrain = xgb.DMatrix(X_train_xg , label=y_train_xg )\n",
        "dtest = xgb.DMatrix(X_test_xg , label=y_test_xg )\n",
        "parameters = {\n",
        "   \"eta\": 0.3,\n",
        "   \"objective\": \"multi:softprob\",  # error evaluation for multiclass tasks\n",
        "   \"num_class\": 3,  # number of classes to predic\n",
        "   \"max_depth\": 3,  # depth of the trees in the boosting process\n",
        "}\n",
        "num_round = 20  # the number of training iterations\n",
        "bst = xgb.train(parameters, dtrain, num_round)\n",
        "preds = bst.predict(dtest)\n",
        "best_preds = np.asarray([np.argmax(line) for line in preds])\n",
        "print(precision_score(y_test_xg , best_preds, average=\"macro\"))\n",
        "ax = xgb.plot_importance(bst)\n",
        "ax.figure.savefig(\"fi.png\")"
      ],
      "metadata": {
        "colab": {
          "base_uri": "https://localhost:8080/",
          "height": 312
        },
        "id": "O9qCObmQgKQX",
        "outputId": "14eed598-537a-44ba-8260-d64eab9fc26f"
      },
      "execution_count": 98,
      "outputs": [
        {
          "output_type": "stream",
          "name": "stdout",
          "text": [
            "1.0\n"
          ]
        },
        {
          "output_type": "display_data",
          "data": {
            "text/plain": [
              "<Figure size 432x288 with 1 Axes>"
            ],
            "image/png": "[encoded data removed]"
          },
          "metadata": {
            "needs_background": "light"
          }
        }
      ]
    },
    {
      "cell_type": "code",
      "source": [
        "from sklearn import datasets\n",
        "\n",
        "iris = datasets.load_iris()\n",
        "X_boost = iris.data\n",
        "y_boost = iris.target"
      ],
      "metadata": {
        "id": "xiSp-DGCn2dY"
      },
      "execution_count": 99,
      "outputs": []
    },
    {
      "cell_type": "code",
      "source": [
        "#Splitting the arrays into random train and test subsets (80% training, 20% testing)\n",
        "\n",
        "\n",
        "\n",
        "X_train_boost, X_test_boost, y_train_boost, y_test_boost = train_test_split(X_boost, y_boost, test_size=0.20, random_state=42)"
      ],
      "metadata": {
        "id": "QEN_81Q5n8vh"
      },
      "execution_count": 101,
      "outputs": []
    },
    {
      "cell_type": "code",
      "source": [
        "print(\"Train data length:\",len(X_train_boost));\n",
        "print(\"Test data length:\",len(X_test_boost));"
      ],
      "metadata": {
        "colab": {
          "base_uri": "https://localhost:8080/"
        },
        "id": "CT0cV2QVn_4q",
        "outputId": "05b6233f-3c86-4c10-cabe-e9d19b0ba70c"
      },
      "execution_count": 102,
      "outputs": [
        {
          "output_type": "stream",
          "name": "stdout",
          "text": [
            "Train data length: 120\n",
            "Test data length: 30\n"
          ]
        }
      ]
    },
    {
      "cell_type": "code",
      "source": [
        "#Creating the Xgboost DMatrix data format (from the arrays already obtained)\n",
        "\n",
        "import xgboost as xgb\n",
        "\n",
        "d_boosttrain = xgb.DMatrix(X_train_boost, label=y_train_boost)\n",
        "d_boosttest = xgb.DMatrix(X_test_boost, label=y_test_boost)"
      ],
      "metadata": {
        "id": "fo4hmN76oCYW"
      },
      "execution_count": 104,
      "outputs": []
    },
    {
      "cell_type": "code",
      "source": [
        "# Setting some parameters\n",
        "\n",
        "parameters = {\n",
        "    'eta': 0.3,  \n",
        "    'silent': True,  # option for logging\n",
        "    'objective': 'multi:softprob',  # error evaluation for multiclass tasks\n",
        "    'num_class': 3,  # number of classes to predic\n",
        "    'max_depth': 3  # depth of the trees in the boosting process\n",
        "    }  \n",
        "num_round = 20  # the number of training iterations"
      ],
      "metadata": {
        "id": "uANHN4AToC1T"
      },
      "execution_count": 105,
      "outputs": []
    },
    {
      "cell_type": "code",
      "source": [
        "#training the model\n",
        "bst = xgb.train(parameters, d_boosttrain, num_round)"
      ],
      "metadata": {
        "id": "nc7R1qp9oIKE"
      },
      "execution_count": 106,
      "outputs": []
    },
    {
      "cell_type": "code",
      "source": [
        "#resut\n",
        "preds = bst.predict(d_boosttest)"
      ],
      "metadata": {
        "id": "5eEHtmfNoKMZ"
      },
      "execution_count": 107,
      "outputs": []
    },
    {
      "cell_type": "code",
      "source": [
        "preds[:5]"
      ],
      "metadata": {
        "colab": {
          "base_uri": "https://localhost:8080/"
        },
        "id": "TUyDbF3LoMMY",
        "outputId": "11821c16-ccf2-4be5-c137-7eb40585fd3e"
      },
      "execution_count": 108,
      "outputs": [
        {
          "output_type": "execute_result",
          "data": {
            "text/plain": [
              "array([[0.00563804, 0.97755206, 0.01680986],\n",
              "       [0.98254657, 0.01395846, 0.00349498],\n",
              "       [0.00363749, 0.00615226, 0.9902103 ],\n",
              "       [0.00564738, 0.97917044, 0.0151822 ],\n",
              "       [0.00540075, 0.93640935, 0.0581899 ]], dtype=float32)"
            ]
          },
          "metadata": {},
          "execution_count": 108
        }
      ]
    },
    {
      "cell_type": "code",
      "source": [
        "'''\n",
        "Selecting the column that represents the highest probability \n",
        "(note that, for each line, there is 3 columns, indicating the probability for each class)\n",
        "'''\n",
        "\n",
        "import numpy as np\n",
        "\n",
        "best_preds = np.asarray([np.argmax(line) for line in preds])"
      ],
      "metadata": {
        "id": "IJOfD3N8oMr3"
      },
      "execution_count": 109,
      "outputs": []
    },
    {
      "cell_type": "code",
      "source": [
        "best_preds"
      ],
      "metadata": {
        "colab": {
          "base_uri": "https://localhost:8080/"
        },
        "id": "YXlCTnEPoO-T",
        "outputId": "f6d3cbcc-74dc-417f-c548-4f5f31a83a46"
      },
      "execution_count": 110,
      "outputs": [
        {
          "output_type": "execute_result",
          "data": {
            "text/plain": [
              "array([1, 0, 2, 1, 1, 0, 1, 2, 1, 1, 2, 0, 0, 0, 0, 1, 2, 1, 1, 2, 0, 2,\n",
              "       0, 2, 2, 2, 2, 2, 0, 0])"
            ]
          },
          "metadata": {},
          "execution_count": 110
        }
      ]
    },
    {
      "cell_type": "code",
      "source": [
        "#calculating the precision\n",
        "\n",
        "from sklearn.metrics import precision_score\n",
        "\n",
        "print(precision_score(y_test, best_preds, average='macro'))"
      ],
      "metadata": {
        "colab": {
          "base_uri": "https://localhost:8080/"
        },
        "id": "05bycejMoQ_C",
        "outputId": "a22b3ab2-0b26-44fd-db6c-b2405e78c101"
      },
      "execution_count": 111,
      "outputs": [
        {
          "output_type": "stream",
          "name": "stdout",
          "text": [
            "1.0\n"
          ]
        }
      ]
    }
  ]
}