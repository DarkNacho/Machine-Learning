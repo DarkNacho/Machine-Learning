{
  "nbformat": 4,
  "nbformat_minor": 0,
  "metadata": {
    "colab": {
      "provenance": [],
      "authorship_tag": "ABX9TyMRhxhUZvysGF7tJ3XiizM4",
      "include_colab_link": true
    },
    "kernelspec": {
      "name": "python3",
      "display_name": "Python 3"
    },
    "language_info": {
      "name": "python"
    }
  },
  "cells": [
    {
      "cell_type": "markdown",
      "metadata": {
        "id": "view-in-github",
        "colab_type": "text"
      },
      "source": [
        "<a href=\"https://colab.research.google.com/github/castudil/Machine-Learning/blob/main/S09-Support-Vector-Machines/S09_LAB_SVM.ipynb\" target=\"_parent\"><img src=\"https://colab.research.google.com/assets/colab-badge.svg\" alt=\"Open In Colab\"/></a>"
      ]
    },
    {
      "cell_type": "markdown",
      "source": [
        "# Laboratorio de Máquinas de Soporte Vectorial en Python\n",
        "\n",
        "## Objetivo\n",
        "El objetivo de este laboratorio es experimentar con un conjunto de datos artificial que sigue una distribución Gaussiana creada por el programador. Utilizaremos el kernel Gaussiano para aprender la estructura utilizando máquinas de Soporte Vectorial.\n",
        "\n",
        "\n",
        "## Etapas Metodológicas\n",
        "\n",
        "Se deben seguir las siguientes cinco etapas metodológicas:\n",
        "\n",
        "1. **Obtención de datos**: Generar un conjunto de datos artificial siguiendo una distribución Gaussiana.\n",
        "\n",
        "2. **Manipulación**: Dividir el conjunto de datos en conjuntos de entrenamiento, prueba y validación.\n",
        "\n",
        "3. **Exploración**: Visualizar los datos para entender la distribución y la relación entre las categorías.\n",
        "\n",
        "4. **Modelamiento**: Implementar un clasificador de Máquinas de Soporte Vectorial utilizando el kernel Gaussiano.\n",
        "\n",
        "5. **Interpretación**: Analizar y discutir los resultados obtenidos, incluyendo las estadísticas de clasificación y los parámetros ajustados.\n",
        "\n",
        "## Instrucciones\n",
        "\n",
        "1. Crea un Jupyter notebook para llevar a cabo el laboratorio.\n",
        "\n",
        "2. Genera un conjunto de datos artificial que siga una distribución Gaussiana concéntrica.\n",
        "\n",
        "3. Divide el conjunto de datos en conjuntos de entrenamiento, prueba y validación.\n",
        "\n",
        "4. Grafica los conjuntos de datos, asignando el color rojo a una categoría y el color azul a la otra.\n",
        "\n",
        "5. Entrena un clasificador de Máquinas de Soporte Vectorial utilizando el kernel Gaussiano.\n",
        "\n",
        "6. Muestra las estadísticas de clasificación (precisión, recall, F1-score, etc.).\n",
        "\n",
        "7. Realiza ajustes en los parámetros del clasificador y documenta los cambios en el rendimiento.\n",
        "\n",
        "8. Interpreta los resultados y concluye sobre la eficacia del modelo.\n",
        "\n",
        "9. Entrega el Jupyter notebook con todos los pasos y explicaciones detalladas.\n",
        "\n",
        "Recuerda documentar cada paso y proporcionar explicaciones claras y concisas en tu notebook. ¡Buena suerte!\n",
        "\n",
        "plt.title(\"Gaussian divided into three quantiles\", fontsize=\"small\")\n",
        "X1, Y1 = make_gaussian_quantiles(n_features=2, n_classes=3)\n",
        "plt.scatter(X1[:, 0], X1[:, 1], marker=\"o\", c=Y1, s=25, edgecolor=\"k\")"
      ],
      "metadata": {
        "id": "9jlPqxHw2u_i"
      }
    },
    {
      "cell_type": "code",
      "execution_count": null,
      "metadata": {
        "id": "ktAjG53v2sGv"
      },
      "outputs": [],
      "source": []
    }
  ]
}